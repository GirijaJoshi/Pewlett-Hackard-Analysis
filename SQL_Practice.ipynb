{
 "cells": [
  {
   "cell_type": "markdown",
   "metadata": {},
   "source": [
    "```sql\n",
    "-- Create a new table\n",
    "CREATE TABLE people (\n",
    "\tfirst_name VARCHAR(30) NOT NULL,\n",
    "\thas_pet BOOLEAN DEFAULT true,\n",
    "\tpet_type VARCHAR(10) NOT NULL,\n",
    "\tpet_name VARCHAR(30),\n",
    "\tpet_age INT\n",
    ");\n",
    "```"
   ]
  },
  {
   "cell_type": "markdown",
   "metadata": {},
   "source": [
    "```sql\n",
    "-- Creating tables for PH-EmployeeDB\n",
    "CREATE TABLE departments (\n",
    "     dept_no VARCHAR(4) NOT NULL,\n",
    "     dept_name VARCHAR(40) NOT NULL,\n",
    "     PRIMARY KEY (dept_no),\n",
    "     UNIQUE (dept_name)\n",
    ");\n",
    "```"
   ]
  },
  {
   "cell_type": "markdown",
   "metadata": {},
   "source": [
    "```sql\n",
    "-- Creating tables for PH-EmployeeDB\n",
    "CREATE TABLE departments (\n",
    "     dept_no VARCHAR(4) NOT NULL,\n",
    "     dept_name VARCHAR(40) NOT NULL,\n",
    "     PRIMARY KEY (dept_no),\n",
    "     UNIQUE (dept_name)\n",
    ");\n",
    "\n",
    "CREATE TABLE employees (\n",
    "    emp_no INT NOT NULL,\n",
    "    birth_date DATE NOT NULL,\n",
    "\tfirst_name VARCHAR NOT NULL,\n",
    "\tlats_name VARCHAR NOT NULL,\n",
    "\tgender VARCHAR NOT NULL,\n",
    "\thire_date DATE NOT NULL,\n",
    "\tPRIMARY KEY (emp_no)\n",
    ");\n",
    "\n",
    "CREATE TABLE dept_manager(\n",
    "\tdept_no VARCHAR(4) NOT NULL,\n",
    "\temp_no INT NOT NULL,\n",
    "\tfrom_date DATE NOT NULL,\n",
    "\tto_date DATE NOT NULL,\n",
    "\tFOREIGN KEY (emp_no) REFERENCES employees (emp_no),\n",
    "\tFOREIGN KEY (dept_no) REFERENCES departments (dept_no),\n",
    "\tPRIMARY KEY (emp_no, dept_no)\n",
    ");\n",
    "\n",
    "CREATE TABLE salaries (\n",
    "\temp_no INT NOT NULL,\n",
    "\tsalary INT NOT NULL,\n",
    "\tfrom_date DATE NOT NULL,\n",
    "\tto_date DATE NOT NULL,\n",
    "\tFOREIGN KEY (emp_no) REFERENCES employees (emp_no),\n",
    "\tPRIMARY KEY (emp_no)\n",
    ");\n",
    "\n",
    "CREATE TABLE dept_emp (\n",
    "\temp_no INT NOT NULL,\n",
    "\tdept_no VARCHAR(4) NOT NULL,\n",
    "\tfrom_date DATE NOT NULL,\n",
    "\tto_date DATE NOT NULL,\n",
    "\tFOREIGN KEY (emp_no) REFERENCES employees (emp_no),\n",
    "\tFOREIGN KEY (dept_no) REFERENCES departments (dept_no),\n",
    "\tPRIMARY KEY (emp_no, dept_no)\n",
    ");\n",
    "\n",
    "CREATE TABLE titles(\n",
    "\temp_no INT NOT NULL,\n",
    "\ttitle VARCHAR NOT NULL,\n",
    "\tfrom_date DATE NOT NULL,\n",
    "\tto_date DATE NOT NULL,\n",
    "\tFOREIGN KEY (emp_no) REFERENCES employees (emp_no),\n",
    "\tPRIMARY KEY (emp_no)\n",
    ");\n",
    "```"
   ]
  }
 ],
 "metadata": {
  "kernelspec": {
   "display_name": "PythonData",
   "language": "python",
   "name": "pythondata"
  },
  "language_info": {
   "codemirror_mode": {
    "name": "ipython",
    "version": 3
   },
   "file_extension": ".py",
   "mimetype": "text/x-python",
   "name": "python",
   "nbconvert_exporter": "python",
   "pygments_lexer": "ipython3",
   "version": "3.7.7"
  }
 },
 "nbformat": 4,
 "nbformat_minor": 4
}
